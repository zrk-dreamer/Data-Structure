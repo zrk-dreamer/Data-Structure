{
 "cells": [
  {
   "cell_type": "code",
   "execution_count": null,
   "id": "1637f825",
   "metadata": {},
   "outputs": [],
   "source": [
    "#虛擬碼表示 『判斷一個數字是奇數還是偶數』 演算法\n",
    "if num % 2 == 0:\n",
    "    print(num是偶數)\n",
    "else\n",
    "    print(num是奇數)"
   ]
  },
  {
   "cell_type": "code",
   "execution_count": null,
   "id": "52f84b79",
   "metadata": {},
   "outputs": [],
   "source": [
    "#『判斷一個數字是奇數還是偶數』 程式碼\n",
    "def oddOrEven(num):\n",
    "    if num % 2 == 0:\n",
    "        print(num,\"是偶數\")\n",
    "    else:\n",
    "        print(num,\"是奇數\")"
   ]
  },
  {
   "cell_type": "code",
   "execution_count": null,
   "id": "39512cb7",
   "metadata": {},
   "outputs": [],
   "source": [
    "oddOrEven(22)\n",
    "oddOrEven(87)"
   ]
  },
  {
   "cell_type": "code",
   "execution_count": null,
   "id": "f602b670",
   "metadata": {},
   "outputs": [],
   "source": [
    "#『選擇排序』 程式碼\n",
    "def Selectionsort (a,n):\n",
    "    for i in range(n):\n",
    "        j=i\n",
    "        for k in range(i+1,n):\n",
    "            if a[k]<a[j]:\n",
    "                j=k\n",
    "        temp=a[i]; a[i]=a[j]; a[j]=temp\n",
    "    print(\"選擇排序\",a)"
   ]
  },
  {
   "cell_type": "code",
   "execution_count": null,
   "id": "c3d88c46",
   "metadata": {},
   "outputs": [],
   "source": [
    "x=[5,2,4,1,3]\n",
    "print(\"原始資料\",x)\n",
    "Selectionsort (x,5)"
   ]
  },
  {
   "cell_type": "code",
   "execution_count": null,
   "id": "fb8936c3",
   "metadata": {},
   "outputs": [],
   "source": [
    "#『二元搜尋法』 程式碼\n",
    "def BinarySearch (a,x,n):\n",
    "    left=0; right=n-1\n",
    "    while left<=right:\n",
    "        middle=int((left+right)/2)\n",
    "        if x < a[middle]:\n",
    "            right=middle-1\n",
    "        elif x > a[middle]:\n",
    "            left=middle+1\n",
    "        else:\n",
    "            print(\"找到了!\",x,\"元素的索引值是\",middle)\n",
    "            return\n",
    "    print(\"找不到\",x,\"!!!\")            "
   ]
  },
  {
   "cell_type": "code",
   "execution_count": null,
   "id": "e0d17ebd",
   "metadata": {},
   "outputs": [],
   "source": [
    "x=[2,4,6,8,10,12,14,16]\n",
    "print(\"原始資料\",x)\n",
    "BinarySearch (x,12,8)\n",
    "BinarySearch (x,5,8)"
   ]
  },
  {
   "cell_type": "code",
   "execution_count": null,
   "id": "dc196424",
   "metadata": {},
   "outputs": [],
   "source": [
    "#『二元搜尋法』遞迴程式碼\n",
    "def BinarySearchR(a,x,left,right):\n",
    "    if left<=right:\n",
    "        middle=int((left+right)/2)           \n",
    "        if x < a[middle]:\n",
    "            BinarySearchR(a,x,left,middle-1)\n",
    "        elif x > a[middle]:\n",
    "            BinarySearchR(a,x,middle+1,right)\n",
    "        else:\n",
    "            print(\"找到了!\",x,\"元素的索引值是\",middle)\n",
    "            return\n",
    "    else:\n",
    "        print(\"找不到\",x,\"!!!\") "
   ]
  },
  {
   "cell_type": "code",
   "execution_count": null,
   "id": "dd1fe300",
   "metadata": {},
   "outputs": [],
   "source": [
    "x=[2,4,6,8,10,12,14,16]\n",
    "print(\"原始資料\",x)\n",
    "BinarySearchR(x,12,0,7)\n",
    "BinarySearchR(x,5,0,7)"
   ]
  },
  {
   "cell_type": "code",
   "execution_count": null,
   "id": "8339d2e5",
   "metadata": {},
   "outputs": [],
   "source": [
    "#『陣列元素加總』的程式碼\n",
    "def Sum (a,n):\n",
    "    s=0\n",
    "    for i in range(n):\n",
    "        s+=a[i]\n",
    "    print(\"陣列元素加總=\",s)       "
   ]
  },
  {
   "cell_type": "code",
   "execution_count": null,
   "id": "b91603ac",
   "metadata": {
    "scrolled": true
   },
   "outputs": [],
   "source": [
    "x=[1,2,3,4,5]\n",
    "print(\"陣列資料\",x)\n",
    "Sum(x,5)"
   ]
  },
  {
   "cell_type": "code",
   "execution_count": null,
   "id": "053e43f2",
   "metadata": {},
   "outputs": [],
   "source": [
    "#『陣列元素加總』的遞迴程式碼\n",
    "def SumR (a,n):\n",
    "    if n<=0:\n",
    "        return 0 \n",
    "    else:\n",
    "        return(SumR(a,n-1)+a[n-1])"
   ]
  },
  {
   "cell_type": "code",
   "execution_count": null,
   "id": "d1d33d31",
   "metadata": {},
   "outputs": [],
   "source": [
    "x=[2,4,6,8,10]\n",
    "print(\"陣列資料\",x)\n",
    "print(\"陣列元素加總=\",SumR(x,5))"
   ]
  },
  {
   "cell_type": "code",
   "execution_count": null,
   "id": "f441b5f9",
   "metadata": {},
   "outputs": [],
   "source": [
    "#『費氏級數』的程式碼\n",
    "def Fibonacci (n):\n",
    "    if n<=1:\n",
    "        print(\"f(\",n,\")=\",n) \n",
    "    else:\n",
    "        fnm2 = 0; fnm1 = 1\n",
    "        for i in range(2,n+1):\n",
    "            fn = fnm1 + fnm2\n",
    "            fnm2 = fnm1\n",
    "            fnm1 = fn\n",
    "        print(\"f(\",n,\")=\",fn)"
   ]
  },
  {
   "cell_type": "code",
   "execution_count": null,
   "id": "eac30468",
   "metadata": {},
   "outputs": [],
   "source": [
    "for i in range(10):\n",
    "    Fibonacci (i)"
   ]
  }
 ],
 "metadata": {
  "kernelspec": {
   "display_name": "Python 3",
   "language": "python",
   "name": "python3"
  },
  "language_info": {
   "codemirror_mode": {
    "name": "ipython",
    "version": 3
   },
   "file_extension": ".py",
   "mimetype": "text/x-python",
   "name": "python",
   "nbconvert_exporter": "python",
   "pygments_lexer": "ipython3",
   "version": "3.8.8"
  }
 },
 "nbformat": 4,
 "nbformat_minor": 5
}
