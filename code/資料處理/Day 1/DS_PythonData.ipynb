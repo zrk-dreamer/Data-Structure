{
 "cells": [
  {
   "cell_type": "code",
   "execution_count": 186,
   "metadata": {},
   "outputs": [
    {
     "name": "stdout",
     "output_type": "stream",
     "text": [
      "A= (1, 2, 3) \tA type: <class 'tuple'>\n",
      "A2= (4, 5, 6) \tA2 type: <class 'tuple'>\n",
      "A[1]= 2\n"
     ]
    }
   ],
   "source": [
    "#元組(tuple)\n",
    "A=(1,2,3)\n",
    "A2=4,5,6\n",
    "print('A=',A,'\\tA type:',type(A))\n",
    "print('A2=',A2,'\\tA2 type:',type(A2))\n",
    "print('A[1]=',A[1])"
   ]
  },
  {
   "cell_type": "code",
   "execution_count": 187,
   "metadata": {},
   "outputs": [
    {
     "name": "stdout",
     "output_type": "stream",
     "text": [
      "交換前: a= 4 b= 5 c= 6\n",
      "交換後: a= 6 b= 4 c= 5\n"
     ]
    }
   ],
   "source": [
    "A2=4,5,6\n",
    "a,b,c=A2 #unpacking(開箱)\n",
    "print('交換前: a=',a,'b=',b,'c=',c)\n",
    "a,b,c = c,a,b #exchange\n",
    "print('交換後: a=',a,'b=',b,'c=',c)"
   ]
  },
  {
   "cell_type": "code",
   "execution_count": 188,
   "metadata": {},
   "outputs": [
    {
     "name": "stdout",
     "output_type": "stream",
     "text": [
      "轉換前B type: <class 'list'>\n",
      "轉換後B type: <class 'tuple'>\n"
     ]
    }
   ],
   "source": [
    "B=[1,2,3]\n",
    "print('轉換前B type:',type(B))\n",
    "B=tuple(B) #轉換成tuple\n",
    "print('轉換後B type:',type(B))"
   ]
  },
  {
   "cell_type": "code",
   "execution_count": 189,
   "metadata": {},
   "outputs": [
    {
     "name": "stdout",
     "output_type": "stream",
     "text": [
      "A3= ((1, 2, 3), (4, 5, 6), 7, 8, 9) \n",
      "A3[0]= (1, 2, 3) \tA3[1][2]= 6\n"
     ]
    }
   ],
   "source": [
    "A3=B,A2,7,8,9 #tuple的元素也可以是tuple\n",
    "print('A3=',A3,'\\nA3[0]=',A3[0],'\\tA3[1][2]=',A3[1][2])"
   ]
  },
  {
   "cell_type": "code",
   "execution_count": 190,
   "metadata": {},
   "outputs": [
    {
     "name": "stdout",
     "output_type": "stream",
     "text": [
      "A4 type: <class 'int'> \tA5 type: <class 'tuple'>\n"
     ]
    }
   ],
   "source": [
    "A4=10\n",
    "A5=11,\n",
    "print('A4 type:',type(A4),'\\tA5 type:',type(A5))"
   ]
  },
  {
   "cell_type": "code",
   "execution_count": 191,
   "metadata": {},
   "outputs": [
    {
     "name": "stdout",
     "output_type": "stream",
     "text": [
      "one= 1\n",
      "two= 2\n",
      "three= 3\n",
      "four= 4\n"
     ]
    }
   ],
   "source": [
    "(one,two,three,four)=(1,2,3,4)\n",
    "print('one=',one)\n",
    "print('two=',two)\n",
    "print('three=',three)\n",
    "print('four=',four)"
   ]
  },
  {
   "cell_type": "code",
   "execution_count": 192,
   "metadata": {},
   "outputs": [
    {
     "name": "stdout",
     "output_type": "stream",
     "text": [
      "()\n",
      "()\n",
      "range(0, 5) (0, 1, 2, 3, 4)\n",
      "(1, 2, 3)\n",
      "t5= ('a', 'q', 'u', 'i', 'c', 'k', 'b', 'r', 'o', 'e', 'n', 'f', 'o', 'x') , t5[5]= k\n"
     ]
    }
   ],
   "source": [
    "t1=tuple(); print(t1)\n",
    "t2=(); print(t2)\n",
    "t3=tuple(range(5)); print(range(5),t3)\n",
    "t4=(1,2,3); print(t4)\n",
    "t5=tuple('aquickbroenfox');print('t5=',t5,', t5[5]=',t5[5])"
   ]
  },
  {
   "cell_type": "code",
   "execution_count": 195,
   "metadata": {},
   "outputs": [
    {
     "name": "stdout",
     "output_type": "stream",
     "text": [
      "t5= ('a', 's', 'e', 'e', 'n', 'r', 'a', 'd', 'e', 'd', 'o', 'h', 'i', 'c', 'a', 'g', 'o')\n",
      "'C' in t5: False\n",
      "'i' in t5: True\n",
      "'k' not in t5: True\n",
      "'g' not in t5: False\n",
      "len(t5)= 17\n",
      "max(t5)= s\n",
      "min(t5)= a\n",
      "sum(t5)= 15\n"
     ]
    }
   ],
   "source": [
    "del sum\n",
    "t5=tuple('aseenradedohicago')\n",
    "print('t5=',t5)\n",
    "print(\"'C' in t5:\",'C' in t5)\n",
    "print(\"'i' in t5:\",'i' in t5)\n",
    "print(\"'k' not in t5:\",'k' not in t5)\n",
    "print(\"'g' not in t5:\",'g' not in t5)\n",
    "print('len(t5)=',len(t5))\n",
    "print('max(t5)=',max(t5))\n",
    "print('min(t5)=',min(t5))\n",
    "t6=1,2,3,4,5\n",
    "print('sum(t5)=',sum(t6))"
   ]
  },
  {
   "cell_type": "code",
   "execution_count": 196,
   "metadata": {},
   "outputs": [
    {
     "name": "stdout",
     "output_type": "stream",
     "text": [
      "[1, 2, 3, 4]\n",
      "(1, 2, 3, 4)\n"
     ]
    }
   ],
   "source": [
    "print(list((1,2,3,4)))\n",
    "print(tuple([1,2,3,4]))"
   ]
  },
  {
   "cell_type": "code",
   "execution_count": null,
   "metadata": {},
   "outputs": [],
   "source": []
  },
  {
   "cell_type": "code",
   "execution_count": null,
   "metadata": {},
   "outputs": [],
   "source": []
  },
  {
   "cell_type": "code",
   "execution_count": 197,
   "metadata": {},
   "outputs": [
    {
     "name": "stdout",
     "output_type": "stream",
     "text": [
      "B= ['週一', '週二', '週三', '週四', '週五', '週六', '週日'] \tB type: <class 'list'>\n"
     ]
    }
   ],
   "source": [
    "#串列(list)\n",
    "B = ['週一', '週二', '週三', '週四', '週五', '週六', '週日']\n",
    "print('B=',B,'\\tB type:',type(B))"
   ]
  },
  {
   "cell_type": "code",
   "execution_count": 198,
   "metadata": {},
   "outputs": [
    {
     "name": "stdout",
     "output_type": "stream",
     "text": [
      "B= ['週一', '週二', '週三', '週四', '週五', '週六', '週日'] \tB[2]= 週三\n",
      "len(B)= 7\n"
     ]
    }
   ],
   "source": [
    "B = ['週一', '週二', '週三', '週四', '週五', '週六', '週日']\n",
    "print('B=',B,'\\tB[2]=',B[2])\n",
    "print('len(B)=',len(B))"
   ]
  },
  {
   "cell_type": "code",
   "execution_count": 199,
   "metadata": {},
   "outputs": [
    {
     "name": "stdout",
     "output_type": "stream",
     "text": [
      "B= ['週一', '週二', '週三', '週四', '星期5', '週六', '週日']\n",
      "nB.index('週六')= 5\n"
     ]
    }
   ],
   "source": [
    "B = ['週一', '週二', '週三', '週四', '週五', '週六', '週日']\n",
    "B[4]='星期5'\n",
    "print('B=',B)\n",
    "print(\"nB.index('週六')=\",B.index('週六'))"
   ]
  },
  {
   "cell_type": "code",
   "execution_count": 200,
   "metadata": {},
   "outputs": [
    {
     "name": "stdout",
     "output_type": "stream",
     "text": [
      "B2= [1, 2, 9, 3, '6']\n"
     ]
    }
   ],
   "source": [
    "B2=[1,2,3]\n",
    "B2.append('6')\n",
    "B2.insert(2,9)\n",
    "print('B2=',B2)"
   ]
  },
  {
   "cell_type": "code",
   "execution_count": 201,
   "metadata": {},
   "outputs": [
    {
     "name": "stdout",
     "output_type": "stream",
     "text": [
      "B2= [1, 9, 3, '6']\n"
     ]
    }
   ],
   "source": [
    "B2= [1, 2, 9, 3, '6']\n",
    "B2.remove(2) #刪除指定元素\n",
    "print('B2=',B2)"
   ]
  },
  {
   "cell_type": "code",
   "execution_count": 202,
   "metadata": {},
   "outputs": [
    {
     "name": "stdout",
     "output_type": "stream",
     "text": [
      "B2= [1, 2, 3, '6']\n"
     ]
    }
   ],
   "source": [
    "B2= [1, 2, 9, 3, '6']\n",
    "del B2[2] #刪除索引元素\n",
    "print('B2=',B2)"
   ]
  },
  {
   "cell_type": "code",
   "execution_count": 203,
   "metadata": {},
   "outputs": [
    {
     "name": "stdout",
     "output_type": "stream",
     "text": [
      "B2= [1, 2, 3, '6']\n",
      "B2= [1, 2, 3]\n"
     ]
    }
   ],
   "source": [
    "B2= [1, 2, 9, 3, '6']\n",
    "B2.pop(2) #刪除索引元素\n",
    "print('B2=',B2)\n",
    "B2.pop() #刪除最後元素\n",
    "print('B2=',B2)"
   ]
  },
  {
   "cell_type": "code",
   "execution_count": 204,
   "metadata": {},
   "outputs": [
    {
     "name": "stdout",
     "output_type": "stream",
     "text": [
      "B3= [1, 2, 3, 6, 9]\n",
      "B3= ['1', '2', '3', '6', '9']\n",
      "B3= ['1', '2', '3', '6', '9']\n"
     ]
    }
   ],
   "source": [
    "B3= [1, 2, 9, 3, 6]\n",
    "B3.sort() # 排序串列元素,串列元素必須是相同資料形態\n",
    "print('B3=',B3)\n",
    "B3= ['1', '2', '9', '3', '6']\n",
    "B3.sort() # 排序串列元素,串列元素必須是相同資料形態\n",
    "print('B3=',B3)\n",
    "#B3= ['1', '2', 9, '3', '6']\n",
    "B3.sort() # 排序串列元素,串列元素必須是相同資料形態\n",
    "print('B3=',B3)"
   ]
  },
  {
   "cell_type": "code",
   "execution_count": 205,
   "metadata": {},
   "outputs": [
    {
     "name": "stdout",
     "output_type": "stream",
     "text": [
      "1\n",
      "2\n",
      "9\n",
      "3\n",
      "6\n"
     ]
    }
   ],
   "source": [
    "B3= ['1', '2', 9, '3', '6']\n",
    "for item in B3:\n",
    "    print(item)"
   ]
  },
  {
   "cell_type": "code",
   "execution_count": 206,
   "metadata": {},
   "outputs": [
    {
     "name": "stdout",
     "output_type": "stream",
     "text": [
      "B2= [1, 2, 3, '6']\n",
      "B3= [9, '5', 4, 8]\n",
      "B23=B2+B3= [1, 2, 3, '6', 9, '5', 4, 8]\n"
     ]
    }
   ],
   "source": [
    "B2= [1, 2, 3, '6']\n",
    "B3= [ 9, '5', 4, 8]\n",
    "B23=B2+B3\n",
    "print('B2=',B2)\n",
    "print('B3=',B3)\n",
    "print('B23=B2+B3=',B23)"
   ]
  },
  {
   "cell_type": "code",
   "execution_count": 207,
   "metadata": {},
   "outputs": [
    {
     "name": "stdout",
     "output_type": "stream",
     "text": [
      "B4= ['a', 's', 'e', 'e', 'n', 'r', 'a', 'd', 'e', 'd', 'o', 'h', 'i', 'c', 'a', 'g', 'o']\n",
      "B5= ['2021', '08', '09']\n",
      "B6= ['2021', '/', '08', '/', '09']\n"
     ]
    }
   ],
   "source": [
    "B4=list('aseenradedohicago')\n",
    "print('B4=',B4)\n",
    "B5=\"2021/08/09\".split('/') #以'/'分割字串傳回結果串列\n",
    "print('B5=',B5)\n",
    "B6=\"2021 / 08 / 09\".split() #以' '(空格)分割字串傳回結果串列\n",
    "print('B6=',B6)"
   ]
  },
  {
   "cell_type": "code",
   "execution_count": 208,
   "metadata": {},
   "outputs": [
    {
     "name": "stdout",
     "output_type": "stream",
     "text": [
      "B4[:]= ['a', 's', 'e', 'e', 'n', 'r', 'a', 'd', 'e', 'd', 'o', 'h', 'i', 'c', 'a', 'g', 'o']\n",
      "B4[3:]= ['e', 'n', 'r', 'a', 'd', 'e', 'd', 'o', 'h', 'i', 'c', 'a', 'g', 'o']\n",
      "B4[:6]= ['a', 's', 'e', 'e', 'n', 'r']\n",
      "B4[1:5]= ['s', 'e', 'e', 'n']\n",
      "B4[1:13:2]= ['s', 'e', 'r', 'd', 'd', 'h']\n"
     ]
    }
   ],
   "source": [
    "B4=list('aseenradedohicago')\n",
    "print('B4[:]=',B4[:])\n",
    "print('B4[3:]=',B4[3:])\n",
    "print('B4[:6]=',B4[:6]) #[0],[1],[2],[3],[4],[5],不含結束[6]\n",
    "print('B4[1:5]=',B4[1:5]) #[1],[2],[3],[4],不含結束[5]\n",
    "print('B4[1:13:2]=',B4[1:13:2]) "
   ]
  },
  {
   "cell_type": "code",
   "execution_count": 209,
   "metadata": {},
   "outputs": [
    {
     "name": "stdout",
     "output_type": "stream",
     "text": [
      "B4= ['a', 's', 'e', 'e', 'n', 'r', 'a', 'd', 'e', 'd', 'o', 'h', 'i', 'c', 'a', 'g', 'o']\n",
      "B4[-6:]= ['h', 'i', 'c', 'a', 'g', 'o']\n",
      "B4[:-6]= ['a', 's', 'e', 'e', 'n', 'r', 'a', 'd', 'e', 'd', 'o']\n",
      "B4[-15:6]= ['e', 'e', 'n', 'r']\n",
      "B4[::-1]= ['o', 'g', 'a', 'c', 'i', 'h', 'o', 'd', 'e', 'd', 'a', 'r', 'n', 'e', 'e', 's', 'a']\n"
     ]
    }
   ],
   "source": [
    "B4=list('aseenradedohicago')\n",
    "print('B4=',B4)\n",
    "print('B4[-6:]=',B4[-6:]) #負數為倒數索引\n",
    "print('B4[:-6]=',B4[:-6]) #負數為倒數索引\n",
    "print('B4[-15:6]=',B4[-15:6]) #負數為倒數索引\n",
    "print('B4[::-1]=',B4[::-1]) #反轉串列"
   ]
  },
  {
   "cell_type": "code",
   "execution_count": 210,
   "metadata": {},
   "outputs": [
    {
     "name": "stdout",
     "output_type": "stream",
     "text": [
      "B1= [11, 2, 3, 44] \tB2= [11, 2, 3, 44]\n"
     ]
    }
   ],
   "source": [
    "B1=[1,2,3,4]\n",
    "B2=B1\n",
    "B1[0]=11\n",
    "B2[3]=44\n",
    "print('B1=',B1,'\\tB2=',B2)"
   ]
  },
  {
   "cell_type": "code",
   "execution_count": 211,
   "metadata": {},
   "outputs": [
    {
     "name": "stdout",
     "output_type": "stream",
     "text": [
      "B1= [11, 2, 3, 4] \tB2= [1, 2, 3, 44] \tB3= [1, 2, 33, 4]\n"
     ]
    }
   ],
   "source": [
    "B1=[1,2,3,4]\n",
    "B2=B1[:]\n",
    "B3=B1.copy()\n",
    "B1[0]=11\n",
    "B2[3]=44\n",
    "B3[2]=33\n",
    "print('B1=',B1,'\\tB2=',B2,'\\tB3=',B3)"
   ]
  },
  {
   "cell_type": "code",
   "execution_count": 212,
   "metadata": {},
   "outputs": [
    {
     "name": "stdout",
     "output_type": "stream",
     "text": [
      "x= [2, 'two', [1, 2, 3]] \tx type: <class 'list'>\n",
      "y= [5, 6, 7, 8] \ty type: <class 'list'>\n"
     ]
    }
   ],
   "source": [
    "x=[2,'two',[1,2,3]]\n",
    "y=list((5,6,7,8))\n",
    "print('x=',x,'\\tx type:',type(x))\n",
    "print('y=',y,'\\ty type:',type(y))"
   ]
  },
  {
   "cell_type": "code",
   "execution_count": 213,
   "metadata": {},
   "outputs": [
    {
     "name": "stdout",
     "output_type": "stream",
     "text": [
      "numbers= [10, 20, 30, 40]\n",
      "weekdays= ['週一', '週二', '週三', '週四', '週五', '週六', '週日']\n",
      "aList= [10, 'Hello', 3.1415926]\n"
     ]
    }
   ],
   "source": [
    "numbers = [10, 20, 30, 40]\n",
    "weekdays = ['週一', '週二', '週三', '週四', '週五', '週六', '週日']\n",
    "aList = [10, 'Hello', 3.1415926]\n",
    "print('numbers=',numbers)\n",
    "print('weekdays=',weekdays)\n",
    "print('aList=',aList)"
   ]
  },
  {
   "cell_type": "code",
   "execution_count": 214,
   "metadata": {},
   "outputs": [
    {
     "name": "stdout",
     "output_type": "stream",
     "text": [
      "nestedList= [10, 'Hello', 20.5, [30, 40]]\n",
      "nlist= [0, 0, 0, 0, 0, 0, 0, 0, 0, 0]\n",
      "Mylist= ['', '', '', '', '']\n"
     ]
    }
   ],
   "source": [
    "nestedList = [10, 'Hello', 20.5, [30, 40]]\n",
    "nlist=[0]*10\n",
    "Mylist=['']*5\n",
    "print('nestedList=',nestedList)\n",
    "print('nlist=',nlist)\n",
    "print('Mylist=',Mylist)"
   ]
  },
  {
   "cell_type": "code",
   "execution_count": 215,
   "metadata": {},
   "outputs": [
    {
     "name": "stdout",
     "output_type": "stream",
     "text": [
      "len([0])= 1\n",
      "len([]) 0\n",
      "len([[1,3,[4,5],6],7]) 2\n"
     ]
    }
   ],
   "source": [
    "print('len([0])=',len([0]))\n",
    "print('len([])',len([]))\n",
    "print('len([[1,3,[4,5],6],7])',len([[1,3,[4,5],6],7]))"
   ]
  },
  {
   "cell_type": "code",
   "execution_count": 216,
   "metadata": {},
   "outputs": [
    {
     "name": "stdout",
     "output_type": "stream",
     "text": [
      "x= [[1, 3, [4, 5], 6], 7]\n",
      "len(x)= 2\n",
      "len(x[0])= 4\n",
      "len(x[0][2])= 2\n"
     ]
    }
   ],
   "source": [
    "x=[[1,3,[4,5],6],7]\n",
    "print('x=',x)\n",
    "print('len(x)=',len(x))\n",
    "print('len(x[0])=',len(x[0]))\n",
    "print('len(x[0][2])=',len(x[0][2]))\n",
    "#print('len(x[1])=',len(x[1])) #x[1]是整數,不是串列"
   ]
  },
  {
   "cell_type": "code",
   "execution_count": 217,
   "metadata": {},
   "outputs": [
    {
     "name": "stdout",
     "output_type": "stream",
     "text": [
      "weekdays= ['週一', '週二', '週三', '週四', '週五', '週六', '週日']\n",
      "weekdays[0]= 週一\n",
      "weekdays[3]= 週四\n",
      "weekdays[-2]= 週六\n",
      "weekdays[-5]= 週三\n"
     ]
    }
   ],
   "source": [
    "weekdays = ['週一', '週二', '週三', '週四', '週五', '週六', '週日']\n",
    "print('weekdays=',weekdays)\n",
    "print('weekdays[0]=',weekdays[0])\n",
    "print('weekdays[3]=',weekdays[3])\n",
    "print('weekdays[-2]=',weekdays[-2])\n",
    "print('weekdays[-5]=',weekdays[-5])"
   ]
  },
  {
   "cell_type": "code",
   "execution_count": 218,
   "metadata": {},
   "outputs": [
    {
     "name": "stdout",
     "output_type": "stream",
     "text": [
      "x= ['first', 'second', 'third', 'fourth']\n",
      "x[2:4]= ['third', 'fourth']\n",
      "x[2:1]= []\n",
      "x[-1:-3]= []\n",
      "x[-4:-2]= ['first', 'second']\n",
      "x[2:2]= []\n",
      "x[-4:0]= []\n",
      "x[-4:]= ['first', 'second', 'third', 'fourth']\n"
     ]
    }
   ],
   "source": [
    "x=['first','second','third','fourth']\n",
    "print('x=',x)\n",
    "print('x[2:4]=',x[2:4])\n",
    "print('x[2:1]=',x[2:1])\n",
    "print('x[-1:-3]=',x[-1:-3])\n",
    "print('x[-4:-2]=',x[-4:-2])\n",
    "print('x[2:2]=',x[2:2])\n",
    "print('x[-4:0]=',x[-4:0])\n",
    "print('x[-4:]=',x[-4:])"
   ]
  },
  {
   "cell_type": "code",
   "execution_count": 219,
   "metadata": {},
   "outputs": [
    {
     "name": "stdout",
     "output_type": "stream",
     "text": [
      "['A', 'B', 'X', 'D', 'E', 'F']\n",
      "['A', 'B', 'X', 'D', 'E', 'F']\n"
     ]
    }
   ],
   "source": [
    "k = ['A','B','C','D','E','F']\n",
    "r=k #r與k是同個串列\n",
    "s=k[:] #s與k是不同個串列\n",
    "r[2]='X'; print(k) \n",
    "s[3]='Y'; print(k) "
   ]
  },
  {
   "cell_type": "code",
   "execution_count": 220,
   "metadata": {},
   "outputs": [
    {
     "name": "stdout",
     "output_type": "stream",
     "text": [
      "x= [0, 1, 2, 3]\n",
      "x[1:3]= [1, 2]\n",
      "x= [0, 'one', 'two', 3]\n",
      "x= [0, 'I', 'II', 'III', 3]\n",
      "x= ['a', 'b', 'III', 3]\n"
     ]
    }
   ],
   "source": [
    "x=[0,1,2,3]; print('x=',x)\n",
    "print('x[1:3]=',x[1:3])\n",
    "x[1:3]=['one','two']; print('x=',x)\n",
    "x[1:3]=['I','II','III']; print('x=',x)\n",
    "x[0:3]=['a','b']; print('x=',x)"
   ]
  },
  {
   "cell_type": "code",
   "execution_count": 221,
   "metadata": {},
   "outputs": [
    {
     "name": "stdout",
     "output_type": "stream",
     "text": [
      "x= ['a', 'b', 'III', 3]\n",
      "x= ['a', 'b', 'III', 3, 5, 6, 7]\n",
      "x= [9, 8, 7, 'a', 'b', 'III', 3, 5, 6, 7]\n",
      "x= [9, 8, 7, 3, 5, 6, 7]\n"
     ]
    }
   ],
   "source": [
    " print('x=',x)\n",
    "x[len(x):]=[5,6,7];  print('x=',x) #從後面加元素\n",
    "x[:0]=[9,8,7];  print('x=',x) #從前面加元素,同x[0:0]=\n",
    "x[3:6]=[];  print('x=',x) #刪除切片"
   ]
  },
  {
   "cell_type": "code",
   "execution_count": 222,
   "metadata": {},
   "outputs": [
    {
     "name": "stdout",
     "output_type": "stream",
     "text": [
      "x.append(y)= [1, 2, 3, [5, 6, 7]]\n",
      "x.extend(y)= [1, 2, 3, 5, 6, 7]\n",
      "x= [2, 3, 'hello', 4]\n"
     ]
    }
   ],
   "source": [
    "x=[1,2,3];y=[5,6,7];x.append(y);print('x.append(y)=',x)\n",
    "x=[1,2,3];y=[5,6,7];x.extend(y);print('x.extend(y)=',x)\n",
    "x=[2,3,4];x.insert(2,'hello');print('x=',x)"
   ]
  },
  {
   "cell_type": "code",
   "execution_count": 223,
   "metadata": {},
   "outputs": [
    {
     "name": "stdout",
     "output_type": "stream",
     "text": [
      "x= [1, 2, 4]\n",
      "x= [2, 4, 8]\n",
      "x= [2, 4, 8]\n"
     ]
    }
   ],
   "source": [
    "x=[1,2,3,4];del x[2];print('x=',x)\n",
    "x=[2,4,6,8];x.remove(6);print('x=',x)\n",
    "#x.remove(5);print(x)\n",
    "if 5 in x: \n",
    "    x.remove(5)\n",
    "print('x=',x)"
   ]
  },
  {
   "cell_type": "code",
   "execution_count": 224,
   "metadata": {},
   "outputs": [
    {
     "name": "stdout",
     "output_type": "stream",
     "text": [
      "x= [7, 6, 4, 3, 8, 2, 5, 1]\n",
      "x= [7, 6, 4, 3, 8, 2, 5, 1]\n",
      "y= [1, 5, 2, 8, 3, 4, 6, 7]\n"
     ]
    }
   ],
   "source": [
    "x=[1,5,2,8,3,4,6,7];x.reverse();print('x=',x)\n",
    "y=x[::-1];print('x=',x);print('y=',y)"
   ]
  },
  {
   "cell_type": "code",
   "execution_count": 225,
   "metadata": {},
   "outputs": [
    {
     "name": "stdout",
     "output_type": "stream",
     "text": [
      "x= ['Enchanting', 'Life', 'is']\n"
     ]
    }
   ],
   "source": [
    "x=['Life','is','Enchanting'];x.sort();print('x=',x)"
   ]
  },
  {
   "cell_type": "code",
   "execution_count": 226,
   "metadata": {},
   "outputs": [
    {
     "name": "stdout",
     "output_type": "stream",
     "text": [
      "x= [[2, 3], [2, 9], [3, 2], [3, 5], [3, 5, 2], [4, 1]]\n",
      "x= [[4, 1], [3, 5, 2], [3, 5], [3, 2], [2, 9], [2, 3]]\n"
     ]
    }
   ],
   "source": [
    "x=[[3,5],[2,9],[2,3],[4,1],[3,2],[3,5,2]];x.sort();print('x=',x)\n",
    "x.sort(reverse=True);print('x=',x)"
   ]
  },
  {
   "cell_type": "code",
   "execution_count": 227,
   "metadata": {},
   "outputs": [
    {
     "name": "stdout",
     "output_type": "stream",
     "text": [
      "['python', 'is', 'better', 'than', 'C']\n",
      "['C', 'is', 'than', 'python', 'better']\n",
      "['python', 'better', 'than', 'is', 'C']\n"
     ]
    }
   ],
   "source": [
    "def compare_num(string1):\n",
    "    return len(string1)\n",
    "world_list=['python','is','better','than','C'];print(world_list)\n",
    "world_list.sort(key=compare_num);print(world_list)\n",
    "world_list.sort(key=compare_num,reverse=True);print(world_list)"
   ]
  },
  {
   "cell_type": "code",
   "execution_count": 228,
   "metadata": {},
   "outputs": [
    {
     "name": "stdout",
     "output_type": "stream",
     "text": [
      "y= [1, 2, 3, 4]\n",
      "z= [4, 3, 2, 1]\n",
      "x= [3, 2, 1, 4]\n"
     ]
    }
   ],
   "source": [
    "x=[3,2,1,4]; y=sorted(x); print('y=',y)\n",
    "z=sorted(x,reverse=True); print('z=',z)\n",
    "print('x=',x)"
   ]
  },
  {
   "cell_type": "code",
   "execution_count": 229,
   "metadata": {},
   "outputs": [
    {
     "name": "stdout",
     "output_type": "stream",
     "text": [
      "True\n",
      "False\n",
      "[1, 2, 3, 8, 7]\n",
      "[None, None, None, None]\n",
      "[3, 8, 3, 8, 3, 8]\n"
     ]
    }
   ],
   "source": [
    "print(3 in [1,2,3,4])\n",
    "print(3 not in [1,2,3,4]) \n",
    "z=[1,2,3]+[8,7]; print(z)\n",
    "z=[None]*4; print(z)\n",
    "w=[3,8]*3; print(w)"
   ]
  },
  {
   "cell_type": "code",
   "execution_count": 230,
   "metadata": {},
   "outputs": [
    {
     "name": "stdout",
     "output_type": "stream",
     "text": [
      "-2\n",
      "11\n"
     ]
    }
   ],
   "source": [
    "print(min([3,7,0,-2,11]))\n",
    "print(max([3,7,0,-2,11]))\n",
    "#print(max([3,7,'0',11])) # 排序串列元素,串列元素必須是相同資料形態"
   ]
  },
  {
   "cell_type": "code",
   "execution_count": 231,
   "metadata": {},
   "outputs": [
    {
     "name": "stdout",
     "output_type": "stream",
     "text": [
      "x= [1, 2, 2, 3, 5, 2, 5]\n",
      "x.count(2)= 3\n",
      "x.count(5)= 2\n",
      "x.count(4)= 0\n"
     ]
    }
   ],
   "source": [
    "x=[1,2,2,3,5,2,5]; print('x=',x)\n",
    "print('x.count(2)=',x.count(2));\n",
    "print('x.count(5)=',x.count(5));\n",
    "print('x.count(4)=',x.count(4))"
   ]
  },
  {
   "cell_type": "code",
   "execution_count": 232,
   "metadata": {},
   "outputs": [
    {
     "name": "stdout",
     "output_type": "stream",
     "text": [
      "[0, 1, 2]\n",
      "1\n",
      "[20, 21, 22]\n",
      "22\n"
     ]
    }
   ],
   "source": [
    "m=[[0,1,2],[10,11,12],[20,21,22]]\n",
    "print(m[0])\n",
    "print(m[0][1])\n",
    "print(m[2])\n",
    "print(m[2][2])\n",
    "#print(m[1][3])"
   ]
  },
  {
   "cell_type": "code",
   "execution_count": 233,
   "metadata": {},
   "outputs": [
    {
     "name": "stdout",
     "output_type": "stream",
     "text": [
      "分數: 68 分\n",
      "分數: 72 分\n",
      "分數: 58 分\n",
      "分數: 87 分\n",
      "分數: 75 分\n",
      "總分: 360 分\n"
     ]
    }
   ],
   "source": [
    "scores=list([68,72,58,87,75])\n",
    "sum=0\n",
    "for score in scores:\n",
    "    print('分數:',score,'分')\n",
    "    sum+=score\n",
    "    pass\n",
    "print('總分:',sum,'分')"
   ]
  },
  {
   "cell_type": "code",
   "execution_count": null,
   "metadata": {},
   "outputs": [],
   "source": []
  },
  {
   "cell_type": "code",
   "execution_count": null,
   "metadata": {},
   "outputs": [],
   "source": []
  },
  {
   "cell_type": "code",
   "execution_count": 234,
   "metadata": {},
   "outputs": [
    {
     "name": "stdout",
     "output_type": "stream",
     "text": [
      "C= {'早安': 'Good Morning', '你好': 'Hello'} \tC type: <class 'dict'>\n"
     ]
    }
   ],
   "source": [
    "#字典(dict)\n",
    "C={'早安':'Good Morning','你好':'Hello'}\n",
    "print('C=',C,'\\tC type:',type(C))"
   ]
  },
  {
   "cell_type": "code",
   "execution_count": 235,
   "metadata": {},
   "outputs": [
    {
     "name": "stdout",
     "output_type": "stream",
     "text": [
      "你好的英文是: Hello\n",
      "晚安的英文是: Good Night\n"
     ]
    }
   ],
   "source": [
    "C={'早安':'Good Morning','你好':'Hello', '晚安':'Good Night'}\n",
    "print('你好的英文是:',C['你好'])\n",
    "print('晚安的英文是:',C['晚安']) #KeyError: '晚安' <-- 鍵值不存在"
   ]
  },
  {
   "cell_type": "code",
   "execution_count": 236,
   "metadata": {},
   "outputs": [
    {
     "name": "stdout",
     "output_type": "stream",
     "text": [
      "你好的英文是: Hello\n",
      "晚安的英文是: None\n",
      "晚安的英文是: 字典未收錄\n"
     ]
    }
   ],
   "source": [
    "C={'早安':'Good Morning','你好':'Hello'}\n",
    "print('你好的英文是:',C.get('你好'))\n",
    "print('晚安的英文是:',C.get('晚安'))\n",
    "print('晚安的英文是:',C.get('晚安','字典未收錄')) "
   ]
  },
  {
   "cell_type": "code",
   "execution_count": 237,
   "metadata": {},
   "outputs": [
    {
     "name": "stdout",
     "output_type": "stream",
     "text": [
      "C= {'早安': 'Good Morning', '你好': 'Hello'}\n",
      "C= {'早安': 'Good Morning', '你好': 'Hi', '書本': 'Book'}\n"
     ]
    }
   ],
   "source": [
    "C={'早安':'Good Morning','你好':'Hello'}\n",
    "print('C=',C)\n",
    "C['你好']='Hi'\n",
    "C['書本']='Book'\n",
    "print('C=',C)"
   ]
  },
  {
   "cell_type": "code",
   "execution_count": 238,
   "metadata": {},
   "outputs": [
    {
     "name": "stdout",
     "output_type": "stream",
     "text": [
      "C= {'早安': 'Good Morning', '你好': 'Hello'}\n",
      "C= {'早安': 'Good Morning'}\n",
      "C= {}\n"
     ]
    }
   ],
   "source": [
    "C={'早安':'Good Morning','你好':'Hello'}\n",
    "print('C=',C)\n",
    "del C['你好']\n",
    "print('C=',C)\n",
    "C.clear()\n",
    "print('C=',C)"
   ]
  },
  {
   "cell_type": "code",
   "execution_count": 239,
   "metadata": {},
   "outputs": [
    {
     "name": "stdout",
     "output_type": "stream",
     "text": [
      "A= (('早安', 'Good Morning'), ('你好', 'Hello')) \tA type: <class 'tuple'>\n",
      "C= {'早安': 'Good Morning', '你好': 'Hello'} \tC type: <class 'dict'>\n",
      "B= [['書本', 'Book'], ['你好', 'Hi']] \tB type: <class 'list'>\n",
      "C2= {'書本': 'Book', '你好': 'Hi'} \tC2 type: <class 'dict'>\n",
      "C3= {'早安': 'Good Morning', '你好': 'Hello'} \tC3 type: <class 'dict'>\n",
      "C4= {'書本': 'Book', '你好': 'Hi'} \tC4 type: <class 'dict'>\n"
     ]
    }
   ],
   "source": [
    "A=(('早安','Good Morning'),('你好','Hello'))\n",
    "print('A=',A,'\\tA type:',type(A))\n",
    "C=dict(A)\n",
    "print('C=',C,'\\tC type:',type(C))\n",
    "B=[['書本','Book'],['你好','Hi']]\n",
    "print('B=',B,'\\tB type:',type(B))\n",
    "C2=dict(B)\n",
    "print('C2=',C2,'\\tC2 type:',type(C2))\n",
    "C3=dict((('早安','Good Morning'),('你好','Hello')))\n",
    "print('C3=',C3,'\\tC3 type:',type(C3))\n",
    "C4=dict([['書本','Book'],['你好','Hi']])\n",
    "print('C4=',C4,'\\tC4 type:',type(C4))"
   ]
  },
  {
   "cell_type": "code",
   "execution_count": 240,
   "metadata": {},
   "outputs": [
    {
     "name": "stdout",
     "output_type": "stream",
     "text": [
      "C= {'早安': 'Good Morning', '你好': 'Hello'} \tC1= {'書本': 'Book', '你好': 'Hi'}\n",
      "C= {'早安': 'Good Morning', '你好': 'Hi', '書本': 'Book'} \tC1= {'書本': 'Book', '你好': 'Hi'}\n"
     ]
    }
   ],
   "source": [
    "C={'早安':'Good Morning','你好':'Hello'}\n",
    "C1={'書本':'Book','你好':'Hi'}\n",
    "print('C=',C,'\\tC1=',C1)\n",
    "C.update(C1)\n",
    "print('C=',C,'\\tC1=',C1)"
   ]
  },
  {
   "cell_type": "code",
   "execution_count": 241,
   "metadata": {},
   "outputs": [
    {
     "name": "stdout",
     "output_type": "stream",
     "text": [
      "C= {'早安': 'Good Morning', '你好': 'Hi', '書本': 'Book'} \tC1= {'早安': 'Good Morning', '你好': 'Hi', '書本': 'Book'}\n",
      "C= {'早安': 'Good Morning', '你好': 'Hi', '書本': 'Book'} \tC1= {'早安': 'Good Morning', '你好': 'Hello', '書本': 'Book'}\n"
     ]
    }
   ],
   "source": [
    "C={'早安':'Good Morning','你好':'Hello','書本':'Book'}\n",
    "C1=C #C與C1是同個串列\n",
    "C1['你好']='Hi'#C1變動,C會同步變動(因為C與C1是同個串列)\n",
    "print('C=',C,'\\tC1=',C1) \n",
    "C1=C.copy() #C與C1是不同個串列\n",
    "C1['你好']='Hello' #C1變動,C不受影響(因為C與C1是不同的獨立串列)\n",
    "print('C=',C,'\\tC1=',C1)"
   ]
  },
  {
   "cell_type": "code",
   "execution_count": 242,
   "metadata": {},
   "outputs": [
    {
     "name": "stdout",
     "output_type": "stream",
     "text": [
      "早安的英文是: Good Morning\n",
      "你好的英文是: Hello\n",
      "書本的英文是: Book\n",
      "\n",
      "印出鍵:\n",
      "早安\n",
      "你好\n",
      "書本\n",
      "\n",
      "印出值:\n",
      "Good Morning\n",
      "Hello\n",
      "Book\n"
     ]
    }
   ],
   "source": [
    "C={'早安':'Good Morning','你好':'Hello','書本':'Book'}\n",
    "for ch,en in C.items():\n",
    "    print(ch+'的英文是:',en)\n",
    "    \n",
    "print('\\n印出鍵:')    \n",
    "for ch in C.keys():\n",
    "    print(ch)\n",
    "    \n",
    "print('\\n印出值:')\n",
    "for en in C.values():\n",
    "    print(en)"
   ]
  },
  {
   "cell_type": "code",
   "execution_count": null,
   "metadata": {},
   "outputs": [],
   "source": []
  },
  {
   "cell_type": "code",
   "execution_count": null,
   "metadata": {},
   "outputs": [],
   "source": []
  },
  {
   "cell_type": "code",
   "execution_count": 243,
   "metadata": {},
   "outputs": [
    {
     "name": "stdout",
     "output_type": "stream",
     "text": [
      "D= {1, 2, 3, 4} \tD type: <class 'set'>\n",
      "D1= {(1, 2, 3, 4)} \tD1 type: <class 'set'>\n",
      "D2= {1, 2, 3, 4} \tD2 type: <class 'set'>\n",
      "D3= {1, 2, 3, 4} \tD3 type: <class 'set'>\n",
      "D4= {'你好', '早安', '書本'} \tD4 type: <class 'set'>\n",
      "D5= {'i', 'g', ' ', 'o', 'n', 'M', 'r', 'G', 'd'} \tD5 type: <class 'set'>\n"
     ]
    }
   ],
   "source": [
    "#集合(set)\n",
    "D={1,2,3,4}\n",
    "print('D=',D,'\\tD type:',type(D))\n",
    "D1={(1,2,3,4)}\n",
    "print('D1=',D1,'\\tD1 type:',type(D1))\n",
    "D2=set((1,2,3,4))\n",
    "print('D2=',D2,'\\tD2 type:',type(D2))\n",
    "#D2={[1,2,3,4]} #無法直接使用{}導入list, 要改使用set()\n",
    "D3=set([1,2,3,4])\n",
    "print('D3=',D3,'\\tD3 type:',type(D3))\n",
    "D4=set({'早安':'Good Morning','你好':'Hello','書本':'Book'})\n",
    "print('D4=',D4,'\\tD4 type:',type(D4))\n",
    "D5=set('Good Morning')\n",
    "print('D5=',D5,'\\tD5 type:',type(D5))"
   ]
  },
  {
   "cell_type": "code",
   "execution_count": 244,
   "metadata": {},
   "outputs": [
    {
     "name": "stdout",
     "output_type": "stream",
     "text": [
      "D5= {'i', 'g', ' ', 'o', 'n', 'M', 'r', 'G', 'd'}\n",
      "D5= {'i', 'g', ' ', 'o', 'n', 'A', 'M', 'r', 'G', 'd'}\n",
      "D5= {'i', 'g', ' ', 'o', 'n', 'A', 'M', 'r', 'd'}\n"
     ]
    }
   ],
   "source": [
    "D5=set('Good Morning')\n",
    "print('D5=',D5)\n",
    "D5.add('A')\n",
    "D5.add('i')\n",
    "print('D5=',D5)\n",
    "D5.remove('G')\n",
    "print('D5=',D5)"
   ]
  },
  {
   "cell_type": "code",
   "execution_count": 245,
   "metadata": {},
   "outputs": [
    {
     "name": "stdout",
     "output_type": "stream",
     "text": [
      "D1= {1, 2, 3, 4} \tD2= {3, 4, 5, 6}\n",
      "D1|D2(聯集)= {1, 2, 3, 4, 5, 6}\n",
      "D1&D2(交集)= {3, 4}\n",
      "D1-D2(差集)= {1, 2}\n",
      "D1^D2(互斥或)= {1, 2, 5, 6}\n"
     ]
    }
   ],
   "source": [
    "#集合運算 聯集（|）、交集（&）、差集（-）與互斥或（^）\n",
    "D1={1,2,3,4}\n",
    "D2={5,6,3,4}\n",
    "print('D1=',D1,'\\tD2=',D2)\n",
    "print('D1|D2(聯集)=',D1|D2) #聯集（|）\n",
    "print('D1&D2(交集)=',D1&D2) #交集（&）\n",
    "print('D1-D2(差集)=',D1-D2) #差集（-）\n",
    "print('D1^D2(互斥或)=',D1^D2) #互斥或（^）"
   ]
  },
  {
   "cell_type": "code",
   "execution_count": 246,
   "metadata": {},
   "outputs": [
    {
     "name": "stdout",
     "output_type": "stream",
     "text": [
      "D1 {1, 2, 3, 4, 5, 6} \tD2= {3, 4, 5, 6} \tD3= {9, 3, 4, 6}\n",
      "D1>D2(真超集合)= True\n",
      "D1>D3(真超集合)= False\n",
      "D1>D1(真超集合)= False\n",
      "D1>=D2(超集合)= True\n",
      "D1<D2(真超集合)= False\n",
      "D2<D3(真超集合)= False\n",
      "D2<D1(真超集合)= True\n",
      "D1<=D2(真超集合)= False\n"
     ]
    }
   ],
   "source": [
    "#集合的比較\n",
    "D1={1,2,3,4,5,6}\n",
    "D2={5,6,3,4}\n",
    "D3={3,4,6,9}\n",
    "print('D1',D1,'\\tD2=',D2,'\\tD3=',D3)\n",
    "print('D1>D2(真超集合)=',D1>D2)\n",
    "print('D1>D3(真超集合)=',D1>D3)\n",
    "print('D1>D1(真超集合)=',D1>D1)\n",
    "print('D1>=D2(超集合)=',D1>=D2)\n",
    "print('D1<D2(真超集合)=',D1<D2)\n",
    "print('D2<D3(真超集合)=',D2<D3)\n",
    "print('D2<D1(真超集合)=',D2<D1)\n",
    "print('D1<=D2(真超集合)=',D1<=D2)"
   ]
  },
  {
   "cell_type": "code",
   "execution_count": 247,
   "metadata": {},
   "outputs": [
    {
     "name": "stdout",
     "output_type": "stream",
     "text": [
      "x= {1, 2}\n",
      "x= {1, 2, 3, 5}\n",
      "x= {1, 2, 3, 5, 6}\n",
      "x= {1, 2, 3, 6}\n",
      "True\n"
     ]
    }
   ],
   "source": [
    "x={1,2,1,2,1,2}; print('x=',x)\n",
    "x=set([1,2,3,1,3,5]); print('x=',x)\n",
    "x.add(6); print('x=',x)\n",
    "x.remove(5); print('x=',x)\n",
    "print(1 in x)"
   ]
  },
  {
   "cell_type": "code",
   "execution_count": 248,
   "metadata": {},
   "outputs": [
    {
     "name": "stdout",
     "output_type": "stream",
     "text": [
      "x= {1, 2, 3, 6} \ty= {8, 1, 9, 7}\n",
      "x|y(聯集)= {1, 2, 3, 6, 7, 8, 9}\n",
      "x&y(交集)= {1}\n",
      "x^y(互斥或)= {2, 3, 6, 7, 8, 9}\n"
     ]
    }
   ],
   "source": [
    "y=set([1,7,8,9]); print('x=',x,'\\ty=',y)\n",
    "print('x|y(聯集)=',x|y)#聯集\n",
    "print('x&y(交集)=',x&y)#交集\n",
    "print('x^y(互斥或)=',x^y)#未重覆的集合"
   ]
  },
  {
   "cell_type": "code",
   "execution_count": 249,
   "metadata": {},
   "outputs": [
    {
     "name": "stdout",
     "output_type": "stream",
     "text": [
      "s1= set()\n",
      "s2= {}\n",
      "range(0, 5) s3= {0, 1, 2, 3, 4}\n",
      "s4= (1, 1, 2, 1)\n",
      "s5= {'i', 'k', 'c', 'f', 'b', 'a', 'o', 'n', 'x', 'r', 'e', 'q', 'u'}\n",
      "True\n",
      "True\n"
     ]
    }
   ],
   "source": [
    "s1=set(); print('s1=',s1)\n",
    "s2={}; print('s2=',s2)\n",
    "s3=set(range(5)); print(range(5),'s3=',s3)\n",
    "s4=(1,1,2,1); print('s4=',s4)\n",
    "s5=set('aquickbroenfox');print('s5=',s5)\n",
    "print('a'in s5)\n",
    "print('d'not in s5)"
   ]
  },
  {
   "cell_type": "code",
   "execution_count": 251,
   "metadata": {},
   "outputs": [
    {
     "name": "stdout",
     "output_type": "stream",
     "text": [
      "s6= {1, 2, 3, 4, 5}\n",
      "len(s6)= 5\n",
      "max(s6= 5\n",
      "min(s6)= 1\n",
      "sum(s6)= 15\n"
     ]
    }
   ],
   "source": [
    "s6={1,4,2,5,3};print('s6=',s6)\n",
    "print('len(s6)=',len(s6))\n",
    "print('max(s6=',max(s6))\n",
    "print('min(s6)=',min(s6))\n",
    "del sum\n",
    "print('sum(s6)=',sum(s6))"
   ]
  },
  {
   "cell_type": "code",
   "execution_count": 252,
   "metadata": {},
   "outputs": [
    {
     "name": "stdout",
     "output_type": "stream",
     "text": [
      "請輸入待辦事項？python excercise\n",
      "請輸入待辦事項？\n",
      "請輸入待辦事項？\n",
      "請輸入待辦事項？\n",
      "請輸入待辦事項？\n",
      "python excercise  ['', '', '']\n",
      " ['', '']\n"
     ]
    }
   ],
   "source": [
    "#實作: 待辦事項\n",
    "待辦事項 = []\n",
    "工作 = input('請輸入待辦事項？')\n",
    "待辦事項.append(工作)\n",
    "工作 = input('請輸入待辦事項？')\n",
    "待辦事項.append(工作)\n",
    "工作 = input('請輸入待辦事項？')\n",
    "待辦事項.append(工作)\n",
    "工作 = input('請輸入待辦事項？')\n",
    "待辦事項.append(工作)\n",
    "工作 = input('請輸入待辦事項？')\n",
    "待辦事項.append(工作)\n",
    "print(待辦事項.pop(0), 待辦事項.pop(0), 待辦事項)#取出最先加入的兩項工作\n",
    "print(待辦事項.pop(), 待辦事項) #取出最後加入的一項工作"
   ]
  },
  {
   "cell_type": "code",
   "execution_count": 253,
   "metadata": {},
   "outputs": [
    {
     "name": "stdout",
     "output_type": "stream",
     "text": [
      "dict_keys(['dog', 'fish', 'cat', 'pig'])\n",
      "{'dog': '狗', 'fish': '魚', 'cat': '貓', 'pig': '豬'}\n",
      "請輸入一個英文單字？\n",
      "字典找不到該單字\n"
     ]
    }
   ],
   "source": [
    "#實作: 製作英翻中字典\n",
    "字典 = {'dog':'狗', 'fish':'魚', 'cat':'貓', 'pig':'豬'}\n",
    "print(字典.keys())\n",
    "print(字典)\n",
    "英文 = input('請輸入一個英文單字？')\n",
    "print(字典.get(英文,'字典找不到該單字'))"
   ]
  },
  {
   "cell_type": "code",
   "execution_count": 254,
   "metadata": {},
   "outputs": [
    {
     "name": "stdout",
     "output_type": "stream",
     "text": [
      "{'。', '少', '聞', '眠', '鳥', '雨', '多', '夜', '春', '風', '啼', '不', '落', '覺', '曉', '處', '，', '花', '知', '來', '聲'}\n",
      "{'少', '聞', '眠', '鳥', '雨', '多', '夜', '春', '風', '啼', '不', '落', '覺', '曉', '處', '花', '知', '來', '聲'}\n"
     ]
    }
   ],
   "source": [
    "#實作: 找出一首詩的所有字\n",
    "詩 = '春眠不覺曉，處處聞啼鳥。夜來風雨聲，花落知多少。'\n",
    "字 = set(詩)\n",
    "print(字)\n",
    "字.remove('，')\n",
    "字.remove('。')\n",
    "print(字)"
   ]
  },
  {
   "cell_type": "code",
   "execution_count": 255,
   "metadata": {},
   "outputs": [
    {
     "name": "stdout",
     "output_type": "stream",
     "text": [
      "月份: ['January', 'February', 'March', 'April', 'May', 'June', 'July', 'August', 'September', 'October', 'November', 'December']\n",
      "第8個月份: August\n",
      "星期: ['Sunday', 'Monday', 'Tuesday', 'Wednesday', 'Thursday', 'Friday', 'Saturday']\n",
      "第3個星期: Tuesday\n"
     ]
    }
   ],
   "source": [
    "#複雜的結構\n",
    "星期 = ['Sunday', 'Monday', 'Tuesday', 'Wednesday', 'Thursday', 'Friday', 'Saturday']\n",
    "月份 = ['January', 'February', 'March', 'April', 'May', 'June', \\\n",
    "      'July', 'August', 'September', 'October', 'November', 'December']\n",
    "dic = {'week':星期, 'month':月份}\n",
    "print('月份:',dic['month'])\n",
    "print('第8個月份:',dic['month'][7])\n",
    "print('星期:',dic['week'])\n",
    "print('第3個星期:',dic['week'][2])"
   ]
  }
 ],
 "metadata": {
  "kernelspec": {
   "display_name": "Python 3 (ipykernel)",
   "language": "python",
   "name": "python3"
  },
  "language_info": {
   "codemirror_mode": {
    "name": "ipython",
    "version": 3
   },
   "file_extension": ".py",
   "mimetype": "text/x-python",
   "name": "python",
   "nbconvert_exporter": "python",
   "pygments_lexer": "ipython3",
   "version": "3.9.6"
  }
 },
 "nbformat": 4,
 "nbformat_minor": 4
}
