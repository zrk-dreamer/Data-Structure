{
 "cells": [
  {
   "cell_type": "code",
   "execution_count": null,
   "metadata": {},
   "outputs": [],
   "source": [
    "#網路連線 - UTF-8 中文網頁內容\n",
    "import urllib .request as request\n",
    "src=\"https://www.cjcu.edu.tw/\"\n",
    "with request.urlopen(src)as response:\n",
    "    data=response.read().decode(\"utf-8\") #utf-8解碼\n",
    "print(data)"
   ]
  },
  {
   "cell_type": "code",
   "execution_count": null,
   "metadata": {},
   "outputs": [],
   "source": [
    "#OpenData\n",
    "#串接、擷以公開資料 \n",
    "#JASON格式讀取\n",
    "import urllib .request as request\n",
    "import json #使用JASON格式讀取\n",
    "src=\"https://data.taipei/api/v1/dataset/296acfa2-5d93-4706-ad58-e83cc951863c?scope=resourceAquire\"\n",
    "with request.urlopen(src) as response:\n",
    "    data=json.load(response)#使用JASON格式讀取 \n",
    "clist = data[\"result\"][\"results\"] \n",
    "\n",
    "for company in clist:\n",
    "    print(company[\"公司名稱\"])"
   ]
  },
  {
   "cell_type": "code",
   "execution_count": null,
   "metadata": {},
   "outputs": [],
   "source": [
    "#抓取PTT省錢版網頁的原始碼 - 加入\"User-Agent\"\n",
    "#抓取PTT name 版的前pages標題\n",
    "import urllib.request as request \n",
    "import bs4\n",
    "\n",
    "def getData(src):#顯示標題並回傳上一頁網址    \n",
    "    requestUA=request.Request(src, headers={\n",
    "        \"cookie\":\"over18=1\",\n",
    "        \"User-Agent\":\"Mozilla/5.0 (Windows NT 10.0; Win64; x64) AppleWebKit/537.36 (KHTML, like Gecko) Chrome/86.0.4240.193 Safari/537.36 Edg/86.0.622.68\"\n",
    "    })\n",
    "    with request.urlopen(requestUA) as response:\n",
    "        data=response.read().decode(\"utf-8\")\n",
    "\n",
    "    root=bs4.BeautifulSoup(data, \"html.parser\") #讓BeautifulSoup協助解析HTML格式文件\n",
    "    titles=root.find_all(\"div\", class_=\"title\") #尋找所有class=\"title\"的div標籤\n",
    "    for title in titles:\n",
    "        if title.a != None: #如果標題包含a標籤 (沒有被刪除), 印出來\n",
    "            print(title.a.string)\n",
    "            pass\n",
    "        pass\n",
    "    nextLink=root.find(\"a\", string=\"‹ 上頁\")#找內文是\"‹ 上頁\"的a標籤\n",
    "    return nextLink[\"href\"]\n",
    "\n",
    "#抓取PTT name 版的前pages標題\n",
    "def GetnPTT(name,pages):\n",
    "    if name==None:\n",
    "        name=\"NBA\"\n",
    "    count=0;\n",
    "    src=\"https://www.ptt.cc/bbs/\"+name+\"/index.html\"\n",
    "    while count<pages:\n",
    "        src=NextPage=\"https://www.ptt.cc/\"+getData(src)\n",
    "        count+=1\n",
    "        print(\"第\",count,\"頁\\n========================\\n\")\n",
    "        \n",
    "GetnPTT(\"sex\",3) #抓取PTT性版前3頁的標題"
   ]
  },
  {
   "cell_type": "code",
   "execution_count": null,
   "metadata": {},
   "outputs": [],
   "source": []
  },
  {
   "cell_type": "code",
   "execution_count": null,
   "metadata": {},
   "outputs": [],
   "source": []
  },
  {
   "cell_type": "code",
   "execution_count": null,
   "metadata": {},
   "outputs": [],
   "source": [
    "# AJAX\n",
    "import urllib.request as req\n",
    "url=\"https://www.kkday.com/zh-tw/product/ajax_productlist/?country=&city=&keyword=%E5%8F%B0%E5%8D%97%E5%B8%82&availstartdate=&availenddate=&cat=TAG_4_4&time=&glang=&sort=rdesc&page=1&row=10&fprice=*&eprice=*&precurrency=TWD&csrf_token_name=d840df7741e3cb9df1302c3b8231afeb\"\n",
    "request=req.Request(url, headers={ \"User-Agent\":\"Mozilla/5.0 (Windows NT 10.0; Win64; x64) AppleWebKit/537.36 (KHTML, like Gecko) Chrome/86.0.4240.193 Safari/537.36 Edg/86.0.622.68\"\n",
    "})\n",
    "with req.urlopen(request) as response:\n",
    "    data=response.read().decode(\"utf-8\") \n",
    "print(data)"
   ]
  },
  {
   "cell_type": "code",
   "execution_count": null,
   "metadata": {},
   "outputs": [],
   "source": [
    "import json \n",
    "data=json.loads(data)\n",
    "print(data)"
   ]
  },
  {
   "cell_type": "code",
   "execution_count": null,
   "metadata": {},
   "outputs": [],
   "source": [
    "posts=data[\"data\"]\n",
    "print(\"票券名稱:\")\n",
    "for key in posts:\n",
    "    title = key[\"name\"]\n",
    "    print(title)"
   ]
  },
  {
   "cell_type": "code",
   "execution_count": null,
   "metadata": {},
   "outputs": [],
   "source": [
    "print(\"票券詳細內容連結:\")\n",
    "for key in posts:\n",
    "    title = key[\"url\"]\n",
    "    print(title)"
   ]
  },
  {
   "cell_type": "code",
   "execution_count": null,
   "metadata": {},
   "outputs": [],
   "source": [
    "print(\"票券價格:\")\n",
    "for key in posts:\n",
    "    title = key[\"price\"]\n",
    "    print(title)"
   ]
  },
  {
   "cell_type": "code",
   "execution_count": null,
   "metadata": {},
   "outputs": [],
   "source": [
    "print(\"最早可使用日期:\")\n",
    "for key in posts:\n",
    "    title = key[\"earliest_sale_date\"]\n",
    "    print(title)"
   ]
  },
  {
   "cell_type": "code",
   "execution_count": null,
   "metadata": {},
   "outputs": [],
   "source": [
    "print(\"評價:\")\n",
    "for key in posts:\n",
    "    title = key[\"rating_star\"]\n",
    "    print(title)"
   ]
  },
  {
   "cell_type": "code",
   "execution_count": null,
   "metadata": {},
   "outputs": [],
   "source": [
    "import urllib.parse\n",
    "#utf-8轉url: urllib.parse.quote(str)\n",
    "utf8='台南市'\n",
    "print(utf8,urllib.parse.quote(utf8))\n",
    "\n",
    "#url轉utf-8: urllib.parse.unquote(str)\n",
    "url='%E5%8F%B0%E5%8D%97%E5%B8%82'\n",
    "print(urllib.parse.unquote(url),url)"
   ]
  },
  {
   "cell_type": "code",
   "execution_count": null,
   "metadata": {},
   "outputs": [],
   "source": [
    "import urllib.request as req\n",
    "import urllib.parse\n",
    "import json \n",
    "\n",
    "def percentEncode(str):\n",
    "    res = urllib.parse.quote(str, '')\n",
    "    res = res.replace('+', '%20')\n",
    "    res = res.replace('*', '%2A')\n",
    "    res = res.replace('%7E', '~')\n",
    "    return res\n",
    "\n",
    "def GetKKday(city , name):\n",
    "    city=percentEncode(city)\n",
    "    url=\"https://www.kkday.com/zh-tw/product/ajax_productlist/?keyword=\"+city+\"&cat=TAG_4_4&sort=rdesc\"\n",
    "    request=req.Request(url, headers={ \"User-Agent\":\"Mozilla/5.0 (Windows NT 10.0; Win64; x64) AppleWebKit/537.36 (KHTML, like Gecko) Chrome/86.0.4240.193 Safari/537.36 Edg/86.0.622.68\"\n",
    "    })\n",
    "    with req.urlopen(request) as response:\n",
    "        data=response.read().decode(\"utf-8\")\n",
    "    data=json.loads(data)\n",
    "    posts=data[\"data\"]\n",
    "    count=0\n",
    "    for key in posts:\n",
    "        title = key[name]\n",
    "        print(title)"
   ]
  },
  {
   "cell_type": "code",
   "execution_count": null,
   "metadata": {},
   "outputs": [],
   "source": [
    "import urllib.request as req\n",
    "import urllib.parse\n",
    "import json \n",
    "\n",
    "#取得關鍵字keyword,欄位name,第page頁(預設為第一頁)的資料\n",
    "def GetKKday(keyword, name, page=1):\n",
    "    keyword=urllib.parse.quote(keyword)        \n",
    "    url=\"https://www.kkday.com/zh-tw/product/ajax_productlist/?keyword=\"+keyword+\"&page=\"+str(page)\n",
    "    request=req.Request(url, headers={ \"User-Agent\":\"Mozilla/5.0 (Windows NT 10.0; Win64; x64) AppleWebKit/537.36 (KHTML, like Gecko) Chrome/86.0.4240.193 Safari/537.36 Edg/86.0.622.68\"\n",
    "    })\n",
    "    with req.urlopen(request) as response:\n",
    "        data=response.read().decode(\"utf-8\")\n",
    "    data=json.loads(data)\n",
    "    posts=data[\"data\"]\n",
    "    count=0\n",
    "    for key in posts:\n",
    "        title = key[name]\n",
    "        print(title)\n",
    "\n",
    "#取得關鍵字keyword的總頁數\n",
    "def GetKKdayTotalPages(keyword):\n",
    "    keyword=urllib.parse.quote(keyword)        \n",
    "    url=\"https://www.kkday.com/zh-tw/product/ajax_productlist/?keyword=\"+keyword\n",
    "    request=req.Request(url, headers={ \"User-Agent\":\"Mozilla/5.0 (Windows NT 10.0; Win64; x64) AppleWebKit/537.36 (KHTML, like Gecko) Chrome/86.0.4240.193 Safari/537.36 Edg/86.0.622.68\"\n",
    "    })\n",
    "    with req.urlopen(request) as response:\n",
    "        data=response.read().decode(\"utf-8\")\n",
    "    data=json.loads(data)\n",
    "    return data[\"total_page\"]\n",
    "\n",
    "#取得關鍵字keyword,欄位name,所有的資料\n",
    "def GetKKdayAll(keyword , name):\n",
    "    totalpages=GetKKdayTotalPages(keyword)\n",
    "    for i in range(totalpages):\n",
    "        GetKKday(keyword , name, i+1)"
   ]
  },
  {
   "cell_type": "code",
   "execution_count": null,
   "metadata": {},
   "outputs": [],
   "source": [
    "#取得關鍵字\"DIY\"第1頁的票券詳細內容資料\n",
    "GetKKday(\"DIY\" , \"introduction\")"
   ]
  },
  {
   "cell_type": "code",
   "execution_count": null,
   "metadata": {},
   "outputs": [],
   "source": [
    "#取得關鍵字\"DIY\"的前30筆名稱\n",
    "for i in range(3):\n",
    "    GetKKday(\"DIY\" , \"name\", i+1)"
   ]
  },
  {
   "cell_type": "code",
   "execution_count": null,
   "metadata": {},
   "outputs": [],
   "source": [
    "#取得關鍵字\"DIY\"的總頁數\n",
    "print(GetKKdayTotalPages(\"DIY\"))"
   ]
  },
  {
   "cell_type": "code",
   "execution_count": null,
   "metadata": {},
   "outputs": [],
   "source": [
    "#取得關鍵字\"DIY\"的所有票券名稱\n",
    "GetKKdayAll(\"DIY\" , \"name\")"
   ]
  },
  {
   "cell_type": "code",
   "execution_count": null,
   "metadata": {},
   "outputs": [],
   "source": [
    "#取得關鍵字\"台南市\"前10筆的最早可使用日期\n",
    "GetKKday(\"台南市\" , \"earliest_sale_date\")"
   ]
  },
  {
   "cell_type": "code",
   "execution_count": null,
   "metadata": {},
   "outputs": [],
   "source": [
    "GetKKday(\"台北市\" , \"name\")"
   ]
  },
  {
   "cell_type": "code",
   "execution_count": null,
   "metadata": {},
   "outputs": [],
   "source": [
    "#取得關鍵字\"桃園市\"前10筆的票券連結\n",
    "GetKKday(\"桃園市\" , \"url\")"
   ]
  },
  {
   "cell_type": "code",
   "execution_count": null,
   "metadata": {},
   "outputs": [],
   "source": [
    "#取得關鍵字\"台中市\"前10筆的票券價格\n",
    "GetKKday(\"台中市\" , \"price\")"
   ]
  },
  {
   "cell_type": "code",
   "execution_count": null,
   "metadata": {},
   "outputs": [],
   "source": [
    "#取得關鍵字\"台南市\"前10筆的最早銷售日期\n",
    "GetKKday(\"台南市\" , \"earliest_sale_date\")"
   ]
  },
  {
   "cell_type": "code",
   "execution_count": null,
   "metadata": {},
   "outputs": [],
   "source": [
    "#取得關鍵字\"高雄市\"前10筆的評價\n",
    "GetKKday(\"高雄市\" , \"rating_star\")"
   ]
  }
 ],
 "metadata": {
  "kernelspec": {
   "display_name": "Python 3",
   "language": "python",
   "name": "python3"
  },
  "language_info": {
   "codemirror_mode": {
    "name": "ipython",
    "version": 3
   },
   "file_extension": ".py",
   "mimetype": "text/x-python",
   "name": "python",
   "nbconvert_exporter": "python",
   "pygments_lexer": "ipython3",
   "version": "3.8.6"
  }
 },
 "nbformat": 4,
 "nbformat_minor": 4
}
