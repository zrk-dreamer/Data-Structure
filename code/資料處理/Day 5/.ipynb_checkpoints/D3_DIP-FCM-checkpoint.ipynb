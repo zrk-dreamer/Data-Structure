{
 "cells": [
  {
   "cell_type": "code",
   "execution_count": 1,
   "metadata": {},
   "outputs": [
    {
     "name": "stdout",
     "output_type": "stream",
     "text": [
      "Default:img.shape (323, 323, 3) \n",
      "Default:type(img) <class 'numpy.ndarray'>\n"
     ]
    }
   ],
   "source": [
    "# [OpenCV 讀取圖片]\n",
    "import cv2\n",
    "import numpy as np\n",
    "img = cv2.imread('CJCU.png')\n",
    "print(\"Default:img.shape\",img.shape,\"\\nDefault:type(img)\",type(img))"
   ]
  },
  {
   "cell_type": "code",
   "execution_count": 2,
   "metadata": {},
   "outputs": [
    {
     "name": "stdout",
     "output_type": "stream",
     "text": [
      "IMREAD_COLOR:img.shape (323, 323, 3) <class 'numpy.ndarray'>\n",
      "IMREAD_GRAYSCALE:img.shape (323, 323) <class 'numpy.ndarray'>\n",
      "IMREAD_UNCHANGED:img.shape (323, 323, 3) <class 'numpy.ndarray'>\n"
     ]
    }
   ],
   "source": [
    "#圖檔格式\n",
    "''' cv2.IMREAD_COLOR:此為預設值，這種格式會讀取 RGB 三個 channels 的彩色圖片，而忽略透明度的 channel。\n",
    "    cv2.IMREAD_GRAYSCALE:以灰階的格式來讀取圖片。\n",
    "    cv2.IMREAD_UNCHANGED:讀取圖片中所有的 channels，包含透明度的 channel。'''\n",
    "img1 = cv2.imread('CJCU.png', cv2.IMREAD_COLOR)\n",
    "print(\"IMREAD_COLOR:img.shape\",img1.shape,type(img1))\n",
    "img2 = cv2.imread('CJCU.png', cv2.IMREAD_GRAYSCALE)\n",
    "print(\"IMREAD_GRAYSCALE:img.shape\",img2.shape,type(img2))\n",
    "img3 = cv2.imread('CJCU.png', cv2.IMREAD_UNCHANGED)\n",
    "print(\"IMREAD_UNCHANGED:img.shape\",img3.shape,type(img3))"
   ]
  },
  {
   "cell_type": "code",
   "execution_count": 6,
   "metadata": {},
   "outputs": [
    {
     "ename": "TypeError",
     "evalue": "Argument 'delay' is required to be an integer",
     "output_type": "error",
     "traceback": [
      "\u001b[1;31m---------------------------------------------------------------------------\u001b[0m",
      "\u001b[1;31mTypeError\u001b[0m                                 Traceback (most recent call last)",
      "\u001b[1;32m~\\AppData\\Local\\Temp/ipykernel_20016/3968505605.py\u001b[0m in \u001b[0;36m<module>\u001b[1;34m\u001b[0m\n\u001b[0;32m      6\u001b[0m \u001b[0mcv2\u001b[0m\u001b[1;33m.\u001b[0m\u001b[0mimshow\u001b[0m\u001b[1;33m(\u001b[0m\u001b[1;34m'IMREAD_UNCHANGED Image'\u001b[0m\u001b[1;33m,\u001b[0m \u001b[0mimg3\u001b[0m\u001b[1;33m)\u001b[0m\u001b[1;33m\u001b[0m\u001b[1;33m\u001b[0m\u001b[0m\n\u001b[0;32m      7\u001b[0m \u001b[1;31m# 按下任意鍵則關閉所有視窗\u001b[0m\u001b[1;33m\u001b[0m\u001b[1;33m\u001b[0m\u001b[1;33m\u001b[0m\u001b[0m\n\u001b[1;32m----> 8\u001b[1;33m \u001b[0mcv2\u001b[0m\u001b[1;33m.\u001b[0m\u001b[0mwaitKey\u001b[0m\u001b[1;33m(\u001b[0m\u001b[1;36m0.000000001\u001b[0m\u001b[1;33m)\u001b[0m\u001b[1;31m#等待與讀取使用者按下的按鍵,參數是等待時間（單位為毫秒）,若設定為 0 就表示持續等待至使用者按下按鍵為止\u001b[0m\u001b[1;33m\u001b[0m\u001b[1;33m\u001b[0m\u001b[0m\n\u001b[0m\u001b[0;32m      9\u001b[0m \u001b[0mcv2\u001b[0m\u001b[1;33m.\u001b[0m\u001b[0mdestroyAllWindows\u001b[0m\u001b[1;33m(\u001b[0m\u001b[1;33m)\u001b[0m\u001b[1;31m#關閉所有 OpenCV 的視窗\u001b[0m\u001b[1;33m\u001b[0m\u001b[1;33m\u001b[0m\u001b[0m\n",
      "\u001b[1;31mTypeError\u001b[0m: Argument 'delay' is required to be an integer"
     ]
    }
   ],
   "source": [
    "#顯示影像\n",
    "cv2.imshow('Default Image', img)\n",
    "cv2.imshow('IMREAD_COLOR Image', img1)\n",
    "cv2.imshow('IMREAD_GRAYSCALE Image', img2)\n",
    "cv2.namedWindow('IMREAD_UNCHANGED Image', cv2.WINDOW_NORMAL)# 讓視窗可以自由縮放大小\n",
    "cv2.imshow('IMREAD_UNCHANGED Image', img3)\n",
    "# 按下任意鍵則關閉所有視窗\n",
    "cv2.waitKey(0.000000001)#等待與讀取使用者按下的按鍵,參數是等待時間（單位為毫秒）,若設定為 0 就表示持續等待至使用者按下按鍵為止\n",
    "cv2.destroyAllWindows()#關閉所有 OpenCV 的視窗"
   ]
  },
  {
   "cell_type": "code",
   "execution_count": null,
   "metadata": {},
   "outputs": [],
   "source": [
    "# 寫入圖檔\n",
    "cv2.imwrite('output.jpg', img)\n",
    "# 寫入不同圖檔格式\n",
    "cv2.imwrite('output.png', img2)\n",
    "cv2.imwrite('output.tiff', img1)"
   ]
  },
  {
   "cell_type": "code",
   "execution_count": null,
   "metadata": {},
   "outputs": [],
   "source": [
    "#影像分類-FCM\n",
    "%matplotlib inline\n",
    "import numpy as np\n",
    "import matplotlib.pyplot as plt\n",
    "import pandas as pd\n",
    "\n",
    "class Classification:\n",
    "    def __init__(self, data, noClass):\n",
    "        self.noC=noClass\n",
    "        self.noD=data.size\n",
    "        self.dataList=data\n",
    "        self.classCenter=np.random.random(self.noC)*255\n",
    "        self.distance=np.zeros([self.noD,self.noC], dtype = float)\n",
    "        self.degree=np.zeros([self.noD,self.noC], dtype = float)        \n",
    "        self.m=3\n",
    "        self.Result=np.zeros([self.noD], dtype = np.uint8)\n",
    "        pass\n",
    "    \n",
    "    def fuzzyCMeans(self,times):\n",
    "        self.updateClassCenter=np.zeros([times+1,self.noC], dtype = float)        \n",
    "        self.updateClassCenter[0]= self.classCenter    \n",
    "        self.Err=np.zeros([times], dtype = float)\n",
    "        for i in range(times):\n",
    "            self.computeAllDistance()\n",
    "            self.computeDegree()\n",
    "            self.updateCenter()\n",
    "            self.updateClassCenter[i+1]= self.classCenter\n",
    "            for j in range(self.noC):\n",
    "                self.Err[i]+=self.computeDistance(self.updateClassCenter[i+1][j],self.updateClassCenter[i][j])\n",
    "                pass\n",
    "            self.Err[i]/=self.noC\n",
    "            pass    \n",
    "        pass\n",
    "\n",
    "    def plotErr(self,start=0):\n",
    "        index = np.arange(len(self.Err))\n",
    "        plt.plot(index[int(start):len(self.Err)], self.Err[int(start):len(self.Err)])\n",
    "        plt.show()\n",
    "        pass    \n",
    "    \n",
    "    def plotResult(self,start=0):\n",
    "        index = np.arange(len(self.updateClassCenter))\n",
    "        plt.plot(index[int(start):len(self.updateClassCenter)], self.updateClassCenter[int(start):len(self.updateClassCenter)])\n",
    "        plt.show()\n",
    "        pass\n",
    "    \n",
    "    def computeDistance(self, x, y):\n",
    "        return np.power(np.power((x-y),2),0.5)\n",
    "    \n",
    "    def computeAllDistance(self):\n",
    "        for p in range(self.noD):\n",
    "            for c in range(self.noC):\n",
    "                self.distance[p,c]=self.computeDistance(self.dataList[p],self.classCenter[c])\n",
    "                pass\n",
    "            pass\n",
    "        pass\n",
    "    \n",
    "    def computeDegree(self):\n",
    "        for p in range(self.noD):\n",
    "            sumdis=0\n",
    "            for c in range(self.noC):\n",
    "                sumdis+=np.power(self.distance[p,c],(-2)/(self.m-1))\n",
    "                pass\n",
    "            for c in range(self.noC):\n",
    "                self.degree[p,c]=np.power(self.distance[p,c],(-2)/(self.m-1))/sumdis\n",
    "                pass\n",
    "            pass        \n",
    "        pass\n",
    "    \n",
    "    def updateCenter(self):        \n",
    "        for c in range(self.noC):\n",
    "            sumval=0\n",
    "            sumdeg=0\n",
    "            for p in range(self.noD):\n",
    "                tmp=np.power(self.degree[p,c],self.m)\n",
    "                sumval+=tmp*self.dataList[p]\n",
    "                sumdeg+=tmp\n",
    "                pass\n",
    "            self.classCenter[c]=sumval/sumdeg\n",
    "            pass        \n",
    "        pass    \n",
    "\n",
    "    def returnResult(self):        \n",
    "        for p in range(self.noD):\n",
    "            self.Result[p]=0\n",
    "            for c in range(1,self.noC):\n",
    "                if(self.degree[p,c]>self.degree[p,self.Result[p]]):\n",
    "                    self.Result[p]=c\n",
    "                    pass\n",
    "                pass\n",
    "            pass\n",
    "        self.Result*=int(np.floor(255/self.noC))\n",
    "        pass"
   ]
  },
  {
   "cell_type": "code",
   "execution_count": null,
   "metadata": {},
   "outputs": [],
   "source": [
    "import cv2\n",
    "import numpy as np\n",
    "img = cv2.imread('CJCUG.png', cv2.IMREAD_GRAYSCALE)\n",
    "cv2.imshow('Original',img)\n",
    "(height, width) = img.shape\n",
    "\n",
    "noClass=3\n",
    "\n",
    "img1D=img.reshape(height*width)\n",
    "n=Classification(img1D, noClass)\n",
    "\n",
    "for i in range(5):    \n",
    "    n.fuzzyCMeans(1)\n",
    "    n.returnResult()\n",
    "    result=n.Result.reshape(height, width)\n",
    "    cv2.imshow('Result'+str(i),result)\n",
    "    \n",
    "cv2.waitKey(0)#等待與讀取使用者按下的按鍵,參數是等待時間（單位為毫秒）,若設定為 0 就表示持續等待至使用者按下按鍵為止\n",
    "cv2.destroyAllWindows()#關閉所有 OpenCV 的視窗>"
   ]
  },
  {
   "cell_type": "code",
   "execution_count": null,
   "metadata": {},
   "outputs": [],
   "source": [
    "import cv2\n",
    "import numpy as np\n",
    "img = cv2.imread('CJCUSG.png', cv2.IMREAD_GRAYSCALE)\n",
    "(height, width) = img.shape\n",
    "\n",
    "noClass=3\n",
    "img1D=img.reshape(height*width)\n",
    "n=Classification(img1D, noClass)\n",
    "n.fuzzyCMeans(10)\n",
    "n.plotResult()\n",
    "n.plotErr()"
   ]
  },
  {
   "cell_type": "code",
   "execution_count": null,
   "metadata": {},
   "outputs": [],
   "source": [
    "n.plotResult(5)\n",
    "n.plotErr(5)"
   ]
  }
 ],
 "metadata": {
  "kernelspec": {
   "display_name": "Python 3 (ipykernel)",
   "language": "python",
   "name": "python3"
  },
  "language_info": {
   "codemirror_mode": {
    "name": "ipython",
    "version": 3
   },
   "file_extension": ".py",
   "mimetype": "text/x-python",
   "name": "python",
   "nbconvert_exporter": "python",
   "pygments_lexer": "ipython3",
   "version": "3.9.6"
  }
 },
 "nbformat": 4,
 "nbformat_minor": 4
}
