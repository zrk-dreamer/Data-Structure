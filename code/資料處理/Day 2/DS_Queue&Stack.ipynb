{
 "cells": [
  {
   "cell_type": "code",
   "execution_count": null,
   "metadata": {},
   "outputs": [],
   "source": [
    "# 自己實作佇列\n",
    "class Queue:\n",
    "    def __init__(self, size): # 初始化\n",
    "        self.size = size\n",
    "        self.data = [0]*self.size\n",
    "        self.front = -1\n",
    "        self.back = -1\n",
    "    def isFull(self): # 檢查佇列是否已滿\n",
    "        return self.back == self.size-1\n",
    "    def isEmpty(self): # 檢查是否為空佇列\n",
    "        return self.back == self.front\n",
    "    def enQueue(self, x): # 插入資料 (從尾端)\n",
    "        if self.isFull():\n",
    "            print(\"佇列已滿\")\n",
    "        else:\n",
    "            self.back += 1\n",
    "            self.data[self.back] = x\n",
    "    def deQueue(self): # 刪除資料 (從前端)\n",
    "        if self.isEmpty():\n",
    "            print(\"佇列是空的\")\n",
    "        else:\n",
    "            self.front += 1\n",
    "            return self.data[self.front]\n",
    "    def printQueue(self):\n",
    "        for i in range(self.front + 1, self.back + 1):\n",
    "            print(self.data[i], end=\"\")\n",
    "        print()"
   ]
  },
  {
   "cell_type": "code",
   "execution_count": null,
   "metadata": {},
   "outputs": [],
   "source": [
    "q = Queue(4)\n",
    "for i in range(1, 5):\n",
    "    q.enQueue(i)\n",
    "    q.printQueue()\n",
    "for i in range(1, 5):\n",
    "    q.deQueue()\n",
    "    q.printQueue()"
   ]
  },
  {
   "cell_type": "code",
   "execution_count": null,
   "metadata": {},
   "outputs": [],
   "source": [
    "# 環狀佇列\n",
    "class CirQueue:\n",
    "    def __init__(self, size): # 初始化\n",
    "        self.size = size\n",
    "        self.data = [0]*self.size\n",
    "        self.front = 0\n",
    "        self.back = 0\n",
    "    def isFull(self): # 檢查佇列是否已滿\n",
    "        return self.front == ((self.back + 1) % self.size)  # 浪費一個空間\n",
    "    def isEmpty(self): # 檢查是否為空佇列\n",
    "        return self.back == self.front\n",
    "    def enQueue(self, x): # 插入資料 (從尾端)\n",
    "        if self.isFull():\n",
    "            print(\"環狀佇列已滿\")\n",
    "        else:\n",
    "            self.back = (self.back + 1) % self.size\n",
    "            self.data[self.back] = x\n",
    "    def deQueue(self): # 刪除資料 (從前端)\n",
    "        if self.isEmpty():\n",
    "            print(\"環狀佇列是空的\")\n",
    "        else:\n",
    "            item = self.data[self.front]\n",
    "            self.front = (self.front + 1) % self.size\n",
    "            return item\n",
    "    def printQueue(self):\n",
    "        if not self.isEmpty():\n",
    "            if self.back > self.front:\n",
    "                for i in range(self.front+1, self.back+1):\n",
    "                    print(self.data[i] ,end=\"\")\n",
    "            else:\n",
    "                for i in range(self.front+1, self.size):\n",
    "                    print(self.data[i], end=\"\")\n",
    "                for i in range(0, self.back):\n",
    "                    print(self.data[i], end=\"\")\n",
    "        print()"
   ]
  },
  {
   "cell_type": "code",
   "execution_count": null,
   "metadata": {},
   "outputs": [],
   "source": [
    "q = CirQueue(5)\n",
    "for i in range(1, 5):\n",
    "    q.enQueue(i)\n",
    "    q.printQueue()\n",
    "for i in range(1, 5):\n",
    "    q.deQueue()\n",
    "    q.printQueue()"
   ]
  },
  {
   "cell_type": "code",
   "execution_count": null,
   "metadata": {},
   "outputs": [],
   "source": [
    "#使用串列實作佇列\n",
    "qu = []\n",
    "for i in range(1, 5):\n",
    "    qu.append(i)\n",
    "    print(qu)\n",
    "for i in range(1, 5):\n",
    "    print(qu.pop(0), qu)"
   ]
  },
  {
   "cell_type": "code",
   "execution_count": null,
   "metadata": {},
   "outputs": [],
   "source": []
  },
  {
   "cell_type": "code",
   "execution_count": null,
   "metadata": {},
   "outputs": [],
   "source": []
  },
  {
   "cell_type": "code",
   "execution_count": null,
   "metadata": {},
   "outputs": [],
   "source": [
    "#自己實作堆疊\n",
    "class Stack:\n",
    "    def __init__(self, size): # 初始化\n",
    "        self.size = size\n",
    "        self.data = [0]*self.size\n",
    "        self.top = -1\n",
    "    def isFull(self): # 檢查堆疊是否已滿\n",
    "        return self.top == self.size-1\n",
    "    def isEmpty(self): # 檢查是否為空堆疊\n",
    "        return self.top == -1\n",
    "    def push(self, x): # 插入資料 (從頂端)\n",
    "        if self.isFull():\n",
    "            print(\"堆疊已滿\")\n",
    "        else:\n",
    "            self.top += 1\n",
    "            self.data[self.top] = x\n",
    "    def pop(self): # 刪除資料 (從頂端)\n",
    "        if self.isEmpty():\n",
    "            print(\"堆疊是空的\")\n",
    "        else:\n",
    "            item = self.data[self.top]\n",
    "            self.top -= 1\n",
    "            return item\n",
    "    def printStack(self):\n",
    "        for i in range(0, self.top + 1):\n",
    "            print(self.data[i], end=\"\")\n",
    "        print()"
   ]
  },
  {
   "cell_type": "code",
   "execution_count": null,
   "metadata": {},
   "outputs": [],
   "source": [
    "st = Stack(4)\n",
    "for i in range(1, 5):\n",
    "    st.push(i)\n",
    "    st.printStack()\n",
    "for i in range(1, 5):\n",
    "    st.pop()\n",
    "    st.printStack()"
   ]
  },
  {
   "cell_type": "code",
   "execution_count": null,
   "metadata": {},
   "outputs": [],
   "source": [
    "# 使用串列實作堆疊\n",
    "st = []\n",
    "for i in range(1, 6):\n",
    "    st.append(i)\n",
    "    print(st)\n",
    "for i in range(1, 6):\n",
    "    print(st.pop(), st)"
   ]
  },
  {
   "cell_type": "code",
   "execution_count": null,
   "metadata": {},
   "outputs": [],
   "source": []
  },
  {
   "cell_type": "code",
   "execution_count": null,
   "metadata": {},
   "outputs": [],
   "source": []
  },
  {
   "cell_type": "code",
   "execution_count": null,
   "metadata": {},
   "outputs": [],
   "source": [
    "#中序式轉後序式\n",
    "s = input().split()\n",
    "st = []\n",
    "postfix=\"\"\n",
    "for i in range(len(s)):\n",
    "    if s[i] == '(':\n",
    "        st.append(s[i])\n",
    "    elif s[i] == '+' or s[i] == '-' or s[i] == '*' or s[i] == '/':\n",
    "        while len(st) > 0:\n",
    "            y=st.pop()\n",
    "            if (y == '(') or ((s[i] == '*'  or s[i] == '/') and (y == '+' or y == '-')):\n",
    "                st.append(y)\n",
    "                break\n",
    "            else:\n",
    "                postfix += y\n",
    "        st.append(s[i])\n",
    "    elif s[i] == ')':\n",
    "        while len(st) > 0:\n",
    "            y=st.pop()\n",
    "            if (y != '('):\n",
    "                postfix += y\n",
    "            else:\n",
    "                break\n",
    "    else:\n",
    "        postfix += s[i]\n",
    "while len(st) > 0:\n",
    "    y=st.pop()\n",
    "    postfix += y\n",
    "print(postfix) "
   ]
  },
  {
   "cell_type": "code",
   "execution_count": null,
   "metadata": {},
   "outputs": [],
   "source": [
    "#後序運算\n",
    "s = input().split()\n",
    "st = []\n",
    "for i in range(len(s)):\n",
    "    if s[i] == '+':\n",
    "        x = st.pop(-1)\n",
    "        y = st.pop(-1)\n",
    "        st.append(y+x)\n",
    "    elif s[i] == '-':\n",
    "        x = st.pop(-1)\n",
    "        y = st.pop(-1)\n",
    "        st.append(y-x)\n",
    "    elif s[i] == '*':\n",
    "        x = st.pop(-1)\n",
    "        y = st.pop(-1)\n",
    "        st.append(y*x)\n",
    "    elif s[i] == '/':\n",
    "        x = st.pop(-1)\n",
    "        y = st.pop(-1)\n",
    "        st.append(y/x)\n",
    "    else:\n",
    "        st.append(int(s[i]))\n",
    "print(st[0])"
   ]
  },
  {
   "cell_type": "code",
   "execution_count": null,
   "metadata": {},
   "outputs": [],
   "source": []
  }
 ],
 "metadata": {
  "kernelspec": {
   "display_name": "Python 3",
   "language": "python",
   "name": "python3"
  },
  "language_info": {
   "codemirror_mode": {
    "name": "ipython",
    "version": 3
   },
   "file_extension": ".py",
   "mimetype": "text/x-python",
   "name": "python",
   "nbconvert_exporter": "python",
   "pygments_lexer": "ipython3",
   "version": "3.8.6"
  }
 },
 "nbformat": 4,
 "nbformat_minor": 4
}
